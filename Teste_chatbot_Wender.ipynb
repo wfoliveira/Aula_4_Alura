{
  "nbformat": 4,
  "nbformat_minor": 0,
  "metadata": {
    "colab": {
      "provenance": [],
      "authorship_tag": "ABX9TyNhplSD1OWkoZCA/7DBrtwt",
      "include_colab_link": true
    },
    "kernelspec": {
      "name": "python3",
      "display_name": "Python 3"
    },
    "language_info": {
      "name": "python"
    }
  },
  "cells": [
    {
      "cell_type": "markdown",
      "metadata": {
        "id": "view-in-github",
        "colab_type": "text"
      },
      "source": [
        "<a href=\"https://colab.research.google.com/github/wfoliveira/Aula_4_Alura/blob/main/Teste_chatbot_Wender.ipynb\" target=\"_parent\"><img src=\"https://colab.research.google.com/assets/colab-badge.svg\" alt=\"Open In Colab\"/></a>"
      ]
    },
    {
      "cell_type": "code",
      "source": [],
      "metadata": {
        "id": "LSVpFRdOsdBz"
      },
      "execution_count": null,
      "outputs": []
    },
    {
      "cell_type": "markdown",
      "source": [
        "Instação"
      ],
      "metadata": {
        "id": "-olQ6sgpvxay"
      }
    },
    {
      "cell_type": "code",
      "execution_count": null,
      "metadata": {
        "id": "QCdzJErfsTY-"
      },
      "outputs": [],
      "source": [
        "!pip install -q -U google-generativeai"
      ]
    },
    {
      "cell_type": "code",
      "source": [
        "# Import the Python SDK\n",
        "import google.generativeai as genai\n",
        "# Used to securely store your API key\n",
        "from google.colab import userdata\n",
        "\n",
        "GOOGLE_API_KEY=userdata.get('client_secret')\n",
        "genai.configure(api_key=GOOGLE_API_KEY)"
      ],
      "metadata": {
        "id": "DqizCgtysl2s"
      },
      "execution_count": 50,
      "outputs": []
    },
    {
      "cell_type": "code",
      "source": [
        "for m in genai.list_models():\n",
        "  if 'generateContent' in m.supported_generation_methods:\n",
        "    print(m.name)"
      ],
      "metadata": {
        "colab": {
          "base_uri": "https://localhost:8080/",
          "height": 136
        },
        "id": "EmXD7g8Ps3u7",
        "outputId": "89ffd877-9d59-4349-96eb-3ced6b5a3f71"
      },
      "execution_count": 51,
      "outputs": [
        {
          "output_type": "stream",
          "name": "stdout",
          "text": [
            "models/gemini-1.0-pro\n",
            "models/gemini-1.0-pro-001\n",
            "models/gemini-1.0-pro-latest\n",
            "models/gemini-1.0-pro-vision-latest\n",
            "models/gemini-1.5-pro-latest\n",
            "models/gemini-pro\n",
            "models/gemini-pro-vision\n"
          ]
        }
      ]
    },
    {
      "cell_type": "code",
      "source": [
        "generation_config = {\n",
        "    \"candidate_count\": 1,\n",
        "    \"temperature\": 0.5,\n",
        "}"
      ],
      "metadata": {
        "id": "fRoU8CNEv2wC"
      },
      "execution_count": 52,
      "outputs": []
    },
    {
      "cell_type": "code",
      "source": [
        "safety_settings = {\n",
        "    \"HARASSMENT\": \"BLOCK_NONE\",\n",
        "}"
      ],
      "metadata": {
        "id": "wBZpwAKgwvVm"
      },
      "execution_count": 53,
      "outputs": []
    },
    {
      "cell_type": "markdown",
      "source": [
        "Inicializando modelo"
      ],
      "metadata": {
        "id": "oLnptdztyC_v"
      }
    },
    {
      "cell_type": "code",
      "source": [
        "model = genai.GenerativeModel(model_name=\"gemini-1.0-pro\",\n",
        "                              generation_config=generation_config,\n",
        "                              safety_settings=safety_settings)"
      ],
      "metadata": {
        "id": "3-ZQ2CYix9Sm"
      },
      "execution_count": 54,
      "outputs": []
    },
    {
      "cell_type": "code",
      "source": [
        "response = model.generate_content(\"Vamos aprender conteúdo sobre IA, me dê sugestões\")\n",
        "print(response.text)"
      ],
      "metadata": {
        "colab": {
          "base_uri": "https://localhost:8080/",
          "height": 564
        },
        "id": "Eo-Fq3LR0BBS",
        "outputId": "48269a5c-3c15-4840-fb77-dc3ed2208d5e"
      },
      "execution_count": 55,
      "outputs": [
        {
          "output_type": "stream",
          "name": "stdout",
          "text": [
            "**Cursos Online:**\n",
            "\n",
            "* [Introdução à Inteligência Artificial (IA)](https://www.coursera.org/learn/ai) (Coursera)\n",
            "* [Inteligência Artificial: Fundamentos e Aplicações](https://www.edx.org/course/artificial-intelligence-foundations-and-applications) (edX)\n",
            "* [Aprendizado de Máquina](https://www.coursera.org/specializations/machine-learning) (Coursera)\n",
            "* [Aprendizado Profundo](https://www.coursera.org/specializations/deep-learning) (Coursera)\n",
            "* [IA para Negócios](https://www.coursera.org/specializations/ai-for-business) (Coursera)\n",
            "\n",
            "**Livros:**\n",
            "\n",
            "* [Inteligência Artificial: Uma Abordagem Moderna](Stuart Russell e Peter Norvig)\n",
            "* [Aprendizado de Máquina](Tom Mitchell)\n",
            "* [Aprendizado Profundo](Ian Goodfellow, Yoshua Bengio e Aaron Courville)\n",
            "* [IA para Todos](Andrew Ng e Ernest Davis)\n",
            "* [A IA não é tão assustadora quanto você pensa](Thomas Davenport e Julia Kirby)\n",
            "\n",
            "**Artigos e Tutoriais:**\n",
            "\n",
            "* [O que é Inteligência Artificial?](https://www.technologyreview.com/2023/02/15/1069070/what-is-artificial-intelligence-ai-machine-learning-deep-learning/)\n",
            "* [Como a IA está transformando a sociedade](https://www.mckinsey.com/capabilities/artificial-intelligence/how-we-help-clients/ai-transformation)\n",
            "* [Aprendizado de Máquina para Iniciantes](https://www.tensorflow.org/tutorials/machine_learning/beginners)\n",
            "* [Aprendizado Profundo para Iniciantes](https://www.deeplearning.ai/deep-learning-for-beginners/)\n",
            "* [IA na Prática: Estudos de Caso](https://www.forbes.com/sites/cognitiveworld/2023/02/21/ai-in-practice-real-world-use-cases-of-artificial-intelligence/?sh=5d03125768a7)\n",
            "\n",
            "**Conferências e Eventos:**\n",
            "\n",
            "* [Conferência Internacional sobre Inteligência Artificial (IJCAI)](https://ijcai.org/)\n",
            "* [Conferência sobre Sistemas de Processamento de Informação Neural (NeurIPS)](https://neurips.cc/)\n",
            "* [Conferência Internacional sobre Aprendizado de Máquina (ICML)](https://icml.cc/)\n",
            "* [Conferência Internacional sobre Visão por Computador (ICCV)](https://iccv2023.thecvf.com/)\n",
            "* [Conferência Internacional sobre Processamento de Linguagem Natural (ACL)](https://www.aclweb.org/)\n"
          ]
        }
      ]
    },
    {
      "cell_type": "code",
      "source": [
        "chat = model.start_chat(history=[])"
      ],
      "metadata": {
        "id": "AK9UdPes189l"
      },
      "execution_count": 56,
      "outputs": []
    },
    {
      "cell_type": "code",
      "source": [
        "fimprompt = input(\"Digite sua pergunta: \")\n",
        "\n",
        "while prompt != \"fim\":\n",
        "  response = chat.send_message(prompt)\n",
        "  print(\"Resposta: \", response.text, \"\\n\")\n",
        "  prompt = input(\"Digite sua pergunta: \")"
      ],
      "metadata": {
        "colab": {
          "base_uri": "https://localhost:8080/",
          "height": 105
        },
        "id": "Z4y8vscN2XQk",
        "outputId": "c467541d-d34e-4a9d-f1ce-0e579388bc65"
      },
      "execution_count": 57,
      "outputs": [
        {
          "name": "stdout",
          "output_type": "stream",
          "text": [
            "Digite sua pergunta: estou fazendo um teste\n",
            "Resposta:  Boa sorte no seu teste! Lembre-se de manter a calma, concentrar-se e fazer o seu melhor. Você pode fazer isso! \n",
            "\n",
            "Digite sua pergunta: fim\n"
          ]
        }
      ]
    }
  ]
}